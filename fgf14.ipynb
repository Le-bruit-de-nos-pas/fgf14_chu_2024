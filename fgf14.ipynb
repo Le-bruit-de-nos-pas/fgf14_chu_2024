{
 "cells": [
  {
   "cell_type": "code",
   "execution_count": null,
   "metadata": {},
   "outputs": [],
   "source": [
    "# pip install torch==2.3.0 torchvision==0.18.0"
   ]
  },
  {
   "cell_type": "code",
   "execution_count": null,
   "metadata": {},
   "outputs": [],
   "source": [
    "import torch\n",
    "import pandas as pd\n",
    "import numpy as np\n",
    "\n",
    "from scipy.stats import mannwhitneyu, fisher_exact\n",
    "\n",
    "from sklearn.model_selection import train_test_split\n",
    "from sklearn.metrics import accuracy_score\n",
    "from sklearn.model_selection import StratifiedKFold\n",
    "from sklearn.metrics import roc_curve, auc\n",
    "\n",
    "import matplotlib.pyplot as plt\n",
    "import seaborn as sns\n",
    "import shap\n",
    "import xgboost"
   ]
  },
  {
   "cell_type": "code",
   "execution_count": null,
   "metadata": {},
   "outputs": [],
   "source": [
    "df = pd.read_csv('data/FGF14_pb_may_22.csv', delimiter=';', header=0)\n",
    "print(df.head())"
   ]
  },
  {
   "cell_type": "code",
   "execution_count": null,
   "metadata": {},
   "outputs": [],
   "source": [
    "column_names = pd.DataFrame(df.columns, columns = ['Names'])\n",
    "print(column_names.to_string(index=False))"
   ]
  },
  {
   "cell_type": "code",
   "execution_count": null,
   "metadata": {},
   "outputs": [],
   "source": [
    "counts = []\n",
    "\n",
    "for column in df.columns:\n",
    "    num_unique_values = df[column].nunique()\n",
    "    counts.append([column, num_unique_values])\n",
    "\n",
    "counts = pd.DataFrame(counts, columns=['Variable', 'Number_Unique'])\n",
    "print(counts.to_string(index=False))"
   ]
  },
  {
   "cell_type": "code",
   "execution_count": null,
   "metadata": {},
   "outputs": [],
   "source": [
    "def categorize_var(number_unique):\n",
    "    if number_unique <= 2:\n",
    "        return \"Binary\"\n",
    "    elif number_unique == 3:\n",
    "        return \"Group\"\n",
    "    else:\n",
    "        return \"Continuous\"\n",
    "    \n",
    "counts['Variable_Type'] = counts['Number_Unique'].apply(categorize_var)\n",
    "counts.at[0, 'Variable_Type'] = 'ID'\n",
    "print(counts.to_string(index=False))"
   ]
  },
  {
   "cell_type": "code",
   "execution_count": null,
   "metadata": {},
   "outputs": [],
   "source": [
    "continuous_vars = counts[counts['Variable_Type'] == 'Continuous']['Variable'].tolist()\n",
    "binary_vars = counts[counts['Variable_Type'] == 'Binary']['Variable'].tolist()\n",
    "print(df.shape, len(continuous_vars), len(binary_vars))  "
   ]
  },
  {
   "cell_type": "code",
   "execution_count": null,
   "metadata": {},
   "outputs": [],
   "source": [
    "columns_to_subset = ['genetics_conclusion'] + continuous_vars\n",
    "df_continuous = df[columns_to_subset].copy()\n",
    "df_continuous[continuous_vars] = df_continuous[continuous_vars].apply(pd.to_numeric, errors='coerce')\n",
    "df_continuous"
   ]
  },
  {
   "cell_type": "code",
   "execution_count": null,
   "metadata": {},
   "outputs": [],
   "source": [
    "def calculate_stats_continuous(df, subset_column, subset_value):\n",
    "    subset_df = df[df[subset_column] == subset_value]\n",
    "    summary_stats_data = []\n",
    "\n",
    "    for column in subset_df.columns:\n",
    "        if pd.api.types.is_numeric_dtype(subset_df[column]):  \n",
    "            mean = subset_df[column].mean()\n",
    "            sd = subset_df[column].std()\n",
    "            summary_stats_data.append({'Column': column, 'Mean': mean, 'SD': sd})\n",
    "\n",
    "    summary_stats_df = pd.DataFrame(summary_stats_data)\n",
    "    summary_stats_df['Mean ± SD'] = summary_stats_df.apply(lambda row: f\"{row['Mean']:.2f} ± {row['SD']:.2f}\", axis=1)\n",
    "    summary_stats_df.drop(['Mean', 'SD'], axis=1, inplace=True)\n",
    "    return summary_stats_df"
   ]
  },
  {
   "cell_type": "code",
   "execution_count": null,
   "metadata": {},
   "outputs": [],
   "source": [
    "result_FGF = calculate_stats_continuous(df_continuous, 'genetics_conclusion', 'FGF')\n",
    "result_Neg = calculate_stats_continuous(df_continuous, 'genetics_conclusion', 'Negative')\n",
    "result_MSA = calculate_stats_continuous(df_continuous, 'genetics_conclusion', 'MSA')\n",
    "\n",
    "result_FGF.to_csv('data/result_FGF_cont.csv')\n",
    "result_Neg.to_csv('data/result_Neg_cont.csv')\n",
    "result_MSA.to_csv('data/result_MSA_cont.csv')"
   ]
  },
  {
   "cell_type": "markdown",
   "metadata": {},
   "source": [
    "### **Summary Binary Features**"
   ]
  },
  {
   "cell_type": "code",
   "execution_count": null,
   "metadata": {},
   "outputs": [],
   "source": [
    "columns_to_subset = ['genetics_conclusion'] + binary_vars\n",
    "df_binary = df[columns_to_subset].copy()\n",
    "df_binary[binary_vars] = df_binary[binary_vars].apply(pd.to_numeric, errors='coerce')\n",
    "df_binary"
   ]
  },
  {
   "cell_type": "code",
   "execution_count": null,
   "metadata": {},
   "outputs": [],
   "source": [
    "def calculate_stats_binary(df, subset_column, subset_value):\n",
    "    subset_df = df[df[subset_column] == subset_value]\n",
    "    summary_stats_data = []\n",
    "\n",
    "    for column in subset_df.columns:\n",
    "        if pd.api.types.is_numeric_dtype(subset_df[column]) and subset_df[column].nunique() <= 2:\n",
    "            sum_ = subset_df[column].sum()\n",
    "            percentage = (sum_ / len(subset_df)) * 100\n",
    "            summary_stats_data.append({'Column': column, 'Sum': sum_, 'Percentage': percentage})\n",
    "\n",
    "    summary_stats_df = pd.DataFrame(summary_stats_data)\n",
    "    summary_stats_df['n (%%)'] = summary_stats_df.apply(lambda row: f\"{row['Sum']} ({row['Percentage']:.2f}%)\", axis=1)\n",
    "    summary_stats_df.drop(['Sum', 'Percentage'], axis=1, inplace=True)\n",
    "\n",
    "    return summary_stats_df"
   ]
  },
  {
   "cell_type": "code",
   "execution_count": null,
   "metadata": {},
   "outputs": [],
   "source": [
    "result_FGF = calculate_stats_binary(df_binary, 'genetics_conclusion', 'FGF')\n",
    "result_Neg = calculate_stats_binary(df_binary, 'genetics_conclusion', 'Negative')\n",
    "result_MSA = calculate_stats_binary(df_binary, 'genetics_conclusion', 'MSA')\n",
    "\n",
    "#result_FGF.to_csv('data/result_FGF_bin.csv')\n",
    "#result_Neg.to_csv('data/result_Neg_bin.csv')\n",
    "#result_MSA.to_csv('data/result_MSA_bin.csv')"
   ]
  },
  {
   "cell_type": "markdown",
   "metadata": {},
   "source": [
    "### **Mann Whitney U**"
   ]
  },
  {
   "cell_type": "code",
   "execution_count": null,
   "metadata": {},
   "outputs": [],
   "source": [
    "def perform_mann_whitney(df, continuous_columns, condition_column, g_1, g_2 ):\n",
    "    results = []\n",
    "    \n",
    "    for col in continuous_columns:\n",
    "        try:\n",
    "            group_1 = df[df[condition_column] == g_1][col].dropna()\n",
    "            group_2 = df[df[condition_column] == g_2][col].dropna()\n",
    "            _, p_value = mannwhitneyu(group_1, group_2, alternative='two-sided')\n",
    "            results.append((col, p_value.round(4)))\n",
    "\n",
    "        except Exception as e:\n",
    "            print(f\"Error occurred for column '{col}': {e}\")\n",
    "            continue\n",
    "\n",
    "    results_df = pd.DataFrame(results, columns=['Column', 'P-Value'])\n",
    "    return results_df"
   ]
  },
  {
   "cell_type": "code",
   "execution_count": null,
   "metadata": {},
   "outputs": [],
   "source": [
    "mann_whit_fgf_neg = perform_mann_whitney(df_continuous, continuous_vars, 'genetics_conclusion', 'FGF', 'Negative')\n",
    "mann_whit_fgf_msa = perform_mann_whitney(df_continuous, continuous_vars, 'genetics_conclusion', 'FGF', 'MSA')\n",
    "\n",
    "mann_whit_fgf_neg.to_csv('data/mann_whit_fgf_neg.csv')\n",
    "mann_whit_fgf_msa.to_csv('data/mann_whit_fgf_msa.csv')"
   ]
  },
  {
   "cell_type": "markdown",
   "metadata": {},
   "source": [
    "### **Fisher's Exact**"
   ]
  },
  {
   "cell_type": "code",
   "execution_count": null,
   "metadata": {},
   "outputs": [],
   "source": [
    "def perform_fishers_exact(df, binary_columns, condition_column, g_1, g_2):\n",
    "    results = []\n",
    "    \n",
    "    filtered_df = df[(df[condition_column] == g_1) | (df[condition_column] == g_2)]\n",
    "\n",
    "    for col in binary_columns:\n",
    "        try:\n",
    "            group_1 = filtered_df[filtered_df[condition_column] == g_1][col]\n",
    "            group_2 = filtered_df[filtered_df[condition_column] == g_2][col]\n",
    "            \n",
    "            if not (group_1.sum() == 0 and group_2.sum() == 0):\n",
    "                contingency_table = pd.crosstab(filtered_df[condition_column], filtered_df[col])\n",
    "                odds_ratio, p_value = fisher_exact(contingency_table)\n",
    "                p_value = round(p_value, 4)\n",
    "                results.append((col, p_value))\n",
    "        except Exception as e:\n",
    "            print(f\"Error occurred for column '{col}': {e}\")\n",
    "            continue\n",
    "\n",
    "    results_df = pd.DataFrame(results, columns=['Column', 'P-Value'])\n",
    "    \n",
    "    return results_df"
   ]
  },
  {
   "cell_type": "code",
   "execution_count": null,
   "metadata": {},
   "outputs": [],
   "source": [
    "fisher_fgf_neg = perform_fishers_exact(df_binary, binary_vars, 'genetics_conclusion', 'FGF', 'Negative')\n",
    "fisher_fgf_msa = perform_fishers_exact(df_binary, binary_vars, 'genetics_conclusion', 'MSA', 'Negative')\n",
    "\n",
    "fisher_fgf_neg = fisher_fgf_neg.rename(columns={\"P-Value\": \"P-Value_Neg\"})\n",
    "fisher_fgf_msa = fisher_fgf_msa.rename(columns={\"P-Value\": \"P-Value_MSA\"})\n",
    "\n",
    "merged_df = pd.merge(fisher_fgf_neg, fisher_fgf_msa, on='Column', how='left')\n",
    "merged_df\n",
    "3#merged_df.to_csv('data/merged_df.csv')"
   ]
  },
  {
   "cell_type": "markdown",
   "metadata": {},
   "source": [
    "### **XGBoost FGF+ vs FGF-**"
   ]
  },
  {
   "cell_type": "code",
   "execution_count": null,
   "metadata": {},
   "outputs": [],
   "source": [
    "df = pd.read_csv('data/FGF14_pb_may_22.csv', delimiter=';', header=0)\n",
    "df.drop(['patient_id'], axis=1, inplace=True)"
   ]
  },
  {
   "cell_type": "code",
   "execution_count": null,
   "metadata": {},
   "outputs": [],
   "source": [
    "missing_columns_bool = df.isnull().any()"
   ]
  },
  {
   "cell_type": "code",
   "execution_count": null,
   "metadata": {},
   "outputs": [],
   "source": [
    "filtered_df = df[ (df['genetics_conclusion'] == 'FGF') | (df['genetics_conclusion'] == 'Negative') ]\n",
    "filtered_df"
   ]
  },
  {
   "cell_type": "code",
   "execution_count": null,
   "metadata": {},
   "outputs": [],
   "source": [
    "missing_columns_bool = df.isnull().any()"
   ]
  },
  {
   "cell_type": "code",
   "execution_count": null,
   "metadata": {},
   "outputs": [],
   "source": [
    "filtered_df.isnull().sum().sort_values(ascending=False)"
   ]
  },
  {
   "cell_type": "code",
   "execution_count": null,
   "metadata": {},
   "outputs": [],
   "source": [
    "filtered_df = filtered_df[['genetics_conclusion']  + binary_vars ].copy()\n",
    "filtered_df.isnull().sum().sort_values(ascending=False)"
   ]
  },
  {
   "cell_type": "code",
   "execution_count": null,
   "metadata": {},
   "outputs": [],
   "source": []
  },
  {
   "cell_type": "code",
   "execution_count": null,
   "metadata": {},
   "outputs": [],
   "source": [
    "filtered_df.isnull().sum().sort_values(ascending=False)"
   ]
  },
  {
   "cell_type": "code",
   "execution_count": null,
   "metadata": {},
   "outputs": [],
   "source": [
    "filtered_df['genetics_conclusion'] = filtered_df['genetics_conclusion'].apply(lambda x: 1 if x == 'FGF' else 0)"
   ]
  },
  {
   "cell_type": "code",
   "execution_count": null,
   "metadata": {},
   "outputs": [],
   "source": [
    "y = filtered_df['genetics_conclusion']\n",
    "X = filtered_df.drop(columns=['genetics_conclusion'])\n",
    "\n",
    "X_train, X_test, y_train, y_test = train_test_split(X, y, test_size=0.2, random_state=42)\n"
   ]
  },
  {
   "cell_type": "code",
   "execution_count": null,
   "metadata": {},
   "outputs": [],
   "source": [
    "model = xgboost.XGBClassifier(n_estimators=142, max_depth=2, objective = \"binary:logistic\").fit(X, y)\n",
    "model.fit(X_train, y_train)"
   ]
  },
  {
   "cell_type": "code",
   "execution_count": null,
   "metadata": {},
   "outputs": [],
   "source": [
    "y_pred = model.predict(X_test)\n",
    "accuracy = accuracy_score(y_test, y_pred)\n",
    "print(f\"Accuracy: {accuracy:.2f}\")\n"
   ]
  },
  {
   "cell_type": "code",
   "execution_count": null,
   "metadata": {},
   "outputs": [],
   "source": [
    "explainer = shap.Explainer(model, X)\n",
    "shap_values = explainer(X)\n",
    "shap_values.display_data = X.values"
   ]
  },
  {
   "cell_type": "code",
   "execution_count": null,
   "metadata": {},
   "outputs": [],
   "source": [
    "def rgba_to_hex(rgba):\n",
    "    \"\"\"Convert RGBA color code to hexadecimal color code.\"\"\"\n",
    "    r, g, b, a = rgba\n",
    "    return \"#{:02X}{:02X}{:02X}\".format(int(r * 255), int(g * 255), int(b * 255))\n",
    "\n",
    "cmap = plt.get_cmap('RdBu')\n",
    "blue_hex = rgba_to_hex(cmap(0.0))\n",
    "red_hex = rgba_to_hex(cmap(1.0))\n",
    "print(red_hex, blue_hex)"
   ]
  },
  {
   "cell_type": "code",
   "execution_count": null,
   "metadata": {},
   "outputs": [],
   "source": [
    "\n",
    "shap.initjs()\n",
    "shap.force_plot(shap_values[1], plot_cmap=[\"#053061\", \"#67001F\"])\n",
    "#1,2,3,7, 11,15\n",
    "#23,24,25;28,32,35,"
   ]
  },
  {
   "cell_type": "code",
   "execution_count": null,
   "metadata": {},
   "outputs": [],
   "source": [
    "shap.plots.beeswarm(shap_values,  color=plt.get_cmap(\"RdBu\"))"
   ]
  },
  {
   "cell_type": "code",
   "execution_count": null,
   "metadata": {},
   "outputs": [],
   "source": [
    "shap.plots.heatmap(shap_values, max_display=10, plot_width=6, cmap=plt.get_cmap(\"RdBu\"))"
   ]
  },
  {
   "cell_type": "code",
   "execution_count": null,
   "metadata": {},
   "outputs": [],
   "source": [
    "shap.plots.heatmap(shap_values, max_display=10, plot_width=6, instance_order=shap_values.sum(1), cmap=plt.get_cmap(\"RdBu\"))"
   ]
  },
  {
   "cell_type": "code",
   "execution_count": null,
   "metadata": {},
   "outputs": [],
   "source": [
    "X = X.values\n",
    "y = y.values"
   ]
  },
  {
   "cell_type": "code",
   "execution_count": null,
   "metadata": {},
   "outputs": [],
   "source": [
    "\n",
    "cv = StratifiedKFold(n_splits=2)\n",
    "tprs = []\n",
    "aucs = []\n",
    "mean_fpr = np.linspace(0, 1, 100)\n",
    "\n",
    "for train_index, test_index in cv.split(X, y):\n",
    "    X_train, X_test = X[train_index], X[test_index]\n",
    "    y_train, y_test = y[train_index], y[test_index]\n",
    "    \n",
    "    model = xgb.XGBClassifier()\n",
    "    model.fit(X_train, y_train)\n",
    "    y_prob = model.predict_proba(X_test)[:, 1]\n",
    "    \n",
    "    fpr, tpr, _ = roc_curve(y_test, y_prob)\n",
    "    tprs.append(np.interp(mean_fpr, fpr, tpr))\n",
    "    roc_auc = auc(fpr, tpr)\n",
    "    aucs.append(roc_auc)\n",
    "\n",
    "mean_tpr = np.mean(tprs, axis=0)\n",
    "mean_tpr[-1] = 1.0\n",
    "mean_auc = auc(mean_fpr, mean_tpr)\n",
    "\n",
    "plt.plot(mean_fpr, mean_tpr, color='firebrick', label=f'Mean ROC (area = {mean_auc:.2f})')\n",
    "plt.plot([0, 1], [0, 1], linestyle='--', color='lightgray')\n",
    "plt.xlabel('False Positive Rate')\n",
    "plt.ylabel('True Positive Rate')\n",
    "plt.title('Receiver Operating Characteristic (ROC) Curve')\n",
    "plt.legend(loc='lower right')\n",
    "plt.show()"
   ]
  },
  {
   "cell_type": "markdown",
   "metadata": {},
   "source": [
    "### **XGBoost FGF+ vs MSA**"
   ]
  },
  {
   "cell_type": "code",
   "execution_count": null,
   "metadata": {},
   "outputs": [],
   "source": [
    "df = pd.read_csv('data/FGF14_pb_may_22.csv', delimiter=';', header=0)\n",
    "df.drop(['patient_id'], axis=1, inplace=True)"
   ]
  },
  {
   "cell_type": "code",
   "execution_count": null,
   "metadata": {},
   "outputs": [],
   "source": [
    "missing_columns_bool = df.isnull().any()"
   ]
  },
  {
   "cell_type": "code",
   "execution_count": null,
   "metadata": {},
   "outputs": [],
   "source": [
    "filtered_df = df[ (df['genetics_conclusion'] == 'FGF') | (df['genetics_conclusion'] == 'MSA') ]\n",
    "filtered_df"
   ]
  },
  {
   "cell_type": "code",
   "execution_count": null,
   "metadata": {},
   "outputs": [],
   "source": [
    "missing_columns_bool = df.isnull().any()"
   ]
  },
  {
   "cell_type": "code",
   "execution_count": null,
   "metadata": {},
   "outputs": [],
   "source": [
    "filtered_df.isnull().sum().sort_values(ascending=False)"
   ]
  },
  {
   "cell_type": "code",
   "execution_count": null,
   "metadata": {},
   "outputs": [],
   "source": [
    "filtered_df = filtered_df[['genetics_conclusion']  + binary_vars ].copy()\n",
    "filtered_df.isnull().sum().sort_values(ascending=False)"
   ]
  },
  {
   "cell_type": "code",
   "execution_count": null,
   "metadata": {},
   "outputs": [],
   "source": [
    "# filtered_df.drop([ 'dx_GERD',\n",
    "#         'dx_eye_disease', 'dx_rheumatological_disease',\n",
    "#         'epi_diplopia', 'epi_dysarthria' , 'epi_gait_balance_impair', \n",
    "#         'epi_oscillospsia', 'epi_tremor', 'epi_vertigo' , 'epi_visual_impair', \n",
    "#         'SCA_excluded', 'FRDA_excluded', 'NGS_panel_exome', 'fragile_x', 'EA', 'RFC1',\n",
    "#         'GFAP', 'C90RF72', 'HTT', 'fragile_x', 'SPG', 'ATM',\n",
    "#         'perm_constipation', 'perm_diplopia', 'perm_dysarthria', 'perm_dysesthesia', 'perm_erectile_dysf', 'perm_gait_balance_impair',\n",
    "#         'perm_handwriting_impair', 'perm_oscillopsia', 'perm_pseudobulbar_affect', 'perm_tremor', 'perm_urinary_dysf', 'perm_urinary_incont',\n",
    "#         'perm_vertigo', 'perm_visual_impair'], axis=1, inplace=True)"
   ]
  },
  {
   "cell_type": "code",
   "execution_count": null,
   "metadata": {},
   "outputs": [],
   "source": [
    "filtered_df['genetics_conclusion'] = filtered_df['genetics_conclusion'].apply(lambda x: 1 if x == 'FGF' else 0)"
   ]
  },
  {
   "cell_type": "code",
   "execution_count": null,
   "metadata": {},
   "outputs": [],
   "source": [
    "y = filtered_df['genetics_conclusion']\n",
    "X = filtered_df.drop(columns=['genetics_conclusion'])\n",
    "\n",
    "X_train, X_test, y_train, y_test = train_test_split(X, y, test_size=0.2, random_state=42)"
   ]
  },
  {
   "cell_type": "code",
   "execution_count": null,
   "metadata": {},
   "outputs": [],
   "source": [
    "model = xgboost.XGBClassifier(n_estimators=142, max_depth=2, objective = \"binary:logistic\").fit(X, y)\n",
    "model.fit(X_train, y_train)"
   ]
  },
  {
   "cell_type": "code",
   "execution_count": null,
   "metadata": {},
   "outputs": [],
   "source": [
    "y_pred = model.predict(X_test)\n",
    "accuracy = accuracy_score(y_test, y_pred)\n",
    "print(f\"Accuracy: {accuracy:.2f}\")"
   ]
  },
  {
   "cell_type": "code",
   "execution_count": null,
   "metadata": {},
   "outputs": [],
   "source": [
    "from sklearn.metrics import roc_curve, auc\n",
    "\n",
    "fpr, tpr, thresholds = roc_curve(y_test, y_pred)\n",
    "roc_auc = auc(fpr, tpr)"
   ]
  },
  {
   "cell_type": "code",
   "execution_count": null,
   "metadata": {},
   "outputs": [],
   "source": [
    "plt.figure()\n",
    "plt.plot(fpr, tpr, color='darkorange', lw=2, label=f'ROC curve (area = {roc_auc:.2f})')\n",
    "plt.plot([0, 1], [0, 1], color='navy', lw=2, linestyle='--')\n",
    "plt.xlim([0.0, 1.0])\n",
    "plt.ylim([0.0, 1.05])\n",
    "plt.xlabel('False Positive Rate')\n",
    "plt.ylabel('True Positive Rate')\n",
    "plt.title('Receiver Operating Characteristic (ROC) Curve')\n",
    "plt.legend(loc=\"lower right\")\n",
    "plt.show()"
   ]
  },
  {
   "cell_type": "code",
   "execution_count": null,
   "metadata": {},
   "outputs": [],
   "source": [
    "explainer = shap.Explainer(model, X)\n",
    "shap_values = explainer(X)\n",
    "shap_values.display_data = X.values"
   ]
  },
  {
   "cell_type": "code",
   "execution_count": null,
   "metadata": {},
   "outputs": [],
   "source": [
    "def rgba_to_hex(rgba):\n",
    "    \"\"\"Convert RGBA color code to hexadecimal color code.\"\"\"\n",
    "    r, g, b, a = rgba\n",
    "    return \"#{:02X}{:02X}{:02X}\".format(int(r * 255), int(g * 255), int(b * 255))\n",
    "\n",
    "cmap = plt.get_cmap('RdBu') # cmap(#) returns list with rgba\n",
    "blue_hex = rgba_to_hex(cmap(0.0))\n",
    "red_hex = rgba_to_hex(cmap(1.0))\n",
    "print(red_hex, blue_hex)"
   ]
  },
  {
   "cell_type": "code",
   "execution_count": null,
   "metadata": {},
   "outputs": [],
   "source": [
    "shap.initjs()\n",
    "shap.force_plot(shap_values[24], plot_cmap=[\"#053061\", \"#67001F\"])\n",
    "# 1,2,4,5,6;9;10,11;19\n",
    "# 22 24 25 29 31"
   ]
  },
  {
   "cell_type": "code",
   "execution_count": null,
   "metadata": {},
   "outputs": [],
   "source": [
    "shap.plots.beeswarm(shap_values,  color=plt.get_cmap(\"RdBu\"))"
   ]
  },
  {
   "cell_type": "code",
   "execution_count": null,
   "metadata": {},
   "outputs": [],
   "source": [
    "shap.plots.heatmap(shap_values, max_display=10, plot_width=6, cmap=plt.get_cmap(\"RdBu\"))"
   ]
  },
  {
   "cell_type": "code",
   "execution_count": null,
   "metadata": {},
   "outputs": [],
   "source": [
    "shap.plots.heatmap(shap_values, max_display=10, plot_width=6, instance_order=shap_values.sum(1), cmap=plt.get_cmap(\"RdBu\"))"
   ]
  },
  {
   "cell_type": "code",
   "execution_count": null,
   "metadata": {},
   "outputs": [],
   "source": [
    "np.exp(-3)/(1+np.exp(-3))\n"
   ]
  },
  {
   "cell_type": "markdown",
   "metadata": {},
   "source": [
    "### **Correlation between allele size and SARA score**"
   ]
  },
  {
   "cell_type": "code",
   "execution_count": null,
   "metadata": {},
   "outputs": [],
   "source": [
    "df = pd.read_csv('data/FGF14_pb_may_22.csv', delimiter=';', header=0)\n",
    "df = df[df['genetics_conclusion'] == 'FGF']\n",
    "df = df[['patient_id', 'allele_1', 'allele_2', 'SARA']]\n",
    "df['max'] = df[['allele_1', 'allele_2']].max(axis=1, skipna=True)\n",
    "df = df[['patient_id', 'max',  'SARA']]"
   ]
  },
  {
   "cell_type": "code",
   "execution_count": null,
   "metadata": {},
   "outputs": [],
   "source": [
    "df['SARA'].corr(df['max']) # 0.009615424635835987"
   ]
  },
  {
   "cell_type": "code",
   "execution_count": null,
   "metadata": {},
   "outputs": [],
   "source": [
    "df = df.dropna(subset=['SARA', 'max'])\n",
    "df['SARA'] = df['SARA'].astype(int)\n",
    "df['max'] = df['max'].astype(int)"
   ]
  },
  {
   "cell_type": "code",
   "execution_count": null,
   "metadata": {},
   "outputs": [],
   "source": [
    "plt.figure(figsize=(8, 4))\n",
    "sns.scatterplot(x='max', y='SARA', data=df, edgecolor='firebrick', marker='o', linewidth=2, facecolor='none')\n",
    "sns.regplot(x='max', y='SARA', data=df, scatter=False, color='firebrick')\n",
    "plt.xlabel('\\n Allele Length')\n",
    "plt.ylabel('SARA \\n')\n",
    "plt.title('Scatter plot \\n Allele Length vs SARA score')\n",
    "plt.grid(True)\n",
    "plt.grid(False)\n",
    "plt.show()"
   ]
  },
  {
   "cell_type": "markdown",
   "metadata": {},
   "source": [
    "### **Triad (Tetrad) Performance OLD Tetrad**"
   ]
  },
  {
   "cell_type": "code",
   "execution_count": null,
   "metadata": {},
   "outputs": [],
   "source": [
    "df = pd.read_csv('data/FGF14_pb_may_22.csv', delimiter=';', header=0)\n",
    "df['onset_before_45'] = df[['age_epi_sympt', 'age_perm_sympt']].min(axis=1, skipna=True)\n",
    "df['onset_before_45'] = df['onset_before_45'].apply(lambda x: 1 if x < 45 else 0)\n",
    "df['onset_before_45']"
   ]
  },
  {
   "cell_type": "code",
   "execution_count": null,
   "metadata": {},
   "outputs": [],
   "source": [
    "df = df[['genetics_conclusion', 'onset_before_45', 'dx_dysarthria', 'dx_downbeat_nystagmus', 'epi_sympt'] ]"
   ]
  },
  {
   "cell_type": "code",
   "execution_count": null,
   "metadata": {},
   "outputs": [],
   "source": [
    "filtered_df = df[ (df['genetics_conclusion'] == 'FGF') | (df['genetics_conclusion'] == 'Negative') ].copy()\n",
    "filtered_df['genetics_conclusion'] = filtered_df['genetics_conclusion'].apply(lambda x: 1 if x == 'FGF' else 0)"
   ]
  },
  {
   "cell_type": "code",
   "execution_count": null,
   "metadata": {},
   "outputs": [],
   "source": [
    "y = filtered_df['genetics_conclusion']\n",
    "X = filtered_df.drop(columns=['genetics_conclusion'])\n",
    "\n",
    "X_train, X_test, y_train, y_test = train_test_split(X, y, test_size=0.2, random_state=42)"
   ]
  },
  {
   "cell_type": "code",
   "execution_count": null,
   "metadata": {},
   "outputs": [],
   "source": [
    "model = xgboost.XGBClassifier(n_estimators=142, max_depth=2, objective = \"binary:logistic\").fit(X, y)\n",
    "model.fit(X_train, y_train)"
   ]
  },
  {
   "cell_type": "code",
   "execution_count": null,
   "metadata": {},
   "outputs": [],
   "source": [
    "y_pred = model.predict(X_test)\n",
    "accuracy = accuracy_score(y_test, y_pred)\n",
    "print(f\"Accuracy: {accuracy:.2f}\")\n"
   ]
  },
  {
   "cell_type": "code",
   "execution_count": null,
   "metadata": {},
   "outputs": [],
   "source": [
    "X = X.values\n",
    "y = y.values\n",
    "\n",
    "cv = StratifiedKFold(n_splits=3)\n",
    "tprs = []\n",
    "aucs = []\n",
    "mean_fpr = np.linspace(0, 1, 100)\n",
    "\n",
    "for train_index, test_index in cv.split(X, y):\n",
    "    X_train, X_test = X[train_index], X[test_index]\n",
    "    y_train, y_test = y[train_index], y[test_index]\n",
    "    \n",
    "    model = xgboost.XGBClassifier()\n",
    "    model.fit(X_train, y_train)\n",
    "    y_prob = model.predict_proba(X_test)[:, 1]\n",
    "    \n",
    "    fpr, tpr, _ = roc_curve(y_test, y_prob)\n",
    "    tprs.append(np.interp(mean_fpr, fpr, tpr))\n",
    "    roc_auc = auc(fpr, tpr)\n",
    "    aucs.append(roc_auc)\n",
    "\n",
    "mean_tpr = np.mean(tprs, axis=0)\n",
    "mean_tpr[-1] = 1.0\n",
    "mean_auc = auc(mean_fpr, mean_tpr)\n",
    "\n",
    "plt.plot(mean_fpr, mean_tpr, color='midnightblue', label=f'Mean ROC (area = {mean_auc:.2f})')\n",
    "plt.plot([0, 1], [0, 1], linestyle='--', color='lightgray')\n",
    "plt.xlabel('False Positive Rate')\n",
    "plt.ylabel('True Positive Rate')\n",
    "plt.title('Receiver Operating Characteristic (ROC) Curve')\n",
    "plt.legend(loc='lower right')\n",
    "plt.show()"
   ]
  },
  {
   "cell_type": "markdown",
   "metadata": {},
   "source": [
    "### **Triad (Tetrad) Performance USING OUR TOP 4**  "
   ]
  },
  {
   "cell_type": "code",
   "execution_count": null,
   "metadata": {},
   "outputs": [],
   "source": [
    "df = pd.read_csv('data/FGF14_pb_may_22.csv', delimiter=';', header=0)\n",
    "df['onset_before_45'] = df[['age_epi_sympt', 'age_perm_sympt']].min(axis=1, skipna=True)\n",
    "df['onset_before_45'] = df['onset_before_45'].apply(lambda x: 1 if x < 45 else 0)\n"
   ]
  },
  {
   "cell_type": "code",
   "execution_count": null,
   "metadata": {},
   "outputs": [],
   "source": [
    "df = df[['genetics_conclusion', 'cerebellar_vermis_atrophy', 'dx_episodic_imbalance', 'dx_nystagmus',  'dx_cognitive_impair',  'epi_sympt'] ]"
   ]
  },
  {
   "cell_type": "code",
   "execution_count": null,
   "metadata": {},
   "outputs": [],
   "source": [
    "filtered_df = df[ (df['genetics_conclusion'] == 'FGF') | (df['genetics_conclusion'] == 'Negative') ].copy()\n",
    "filtered_df['genetics_conclusion'] = filtered_df['genetics_conclusion'].apply(lambda x: 1 if x == 'FGF' else 0)"
   ]
  },
  {
   "cell_type": "code",
   "execution_count": null,
   "metadata": {},
   "outputs": [],
   "source": [
    "y = filtered_df['genetics_conclusion']\n",
    "X = filtered_df.drop(columns=['genetics_conclusion'])\n",
    "\n",
    "X_train, X_test, y_train, y_test = train_test_split(X, y, test_size=0.2, random_state=42)"
   ]
  },
  {
   "cell_type": "code",
   "execution_count": null,
   "metadata": {},
   "outputs": [],
   "source": [
    "model = xgboost.XGBClassifier(n_estimators=142, max_depth=2, objective = \"binary:logistic\").fit(X, y)\n",
    "model.fit(X_train, y_train)"
   ]
  },
  {
   "cell_type": "code",
   "execution_count": null,
   "metadata": {},
   "outputs": [],
   "source": [
    "y_pred = model.predict(X_test)\n",
    "accuracy = accuracy_score(y_test, y_pred)\n",
    "print(f\"Accuracy: {accuracy:.2f}\")\n"
   ]
  },
  {
   "cell_type": "code",
   "execution_count": null,
   "metadata": {},
   "outputs": [],
   "source": [
    "X = X.values\n",
    "y = y.values\n",
    "\n",
    "cv = StratifiedKFold(n_splits=3)\n",
    "tprs = []\n",
    "aucs = []\n",
    "mean_fpr_v2 = np.linspace(0, 1, 100)\n",
    "\n",
    "for train_index, test_index in cv.split(X, y):\n",
    "    X_train, X_test = X[train_index], X[test_index]\n",
    "    y_train, y_test = y[train_index], y[test_index]\n",
    "    \n",
    "    model = xgboost.XGBClassifier()\n",
    "    model.fit(X_train, y_train)\n",
    "    y_prob = model.predict_proba(X_test)[:, 1]\n",
    "    \n",
    "    fpr, tpr, _ = roc_curve(y_test, y_prob)\n",
    "    tprs.append(np.interp(mean_fpr_v2, fpr, tpr))\n",
    "    roc_auc = auc(fpr, tpr)\n",
    "    aucs.append(roc_auc)\n",
    "\n",
    "mean_tpr_v2 = np.mean(tprs, axis=0)\n",
    "mean_tpr_v2[-1] = 1.0\n",
    "mean_auc_v2 = auc(mean_fpr_v2, mean_tpr_v2)\n",
    "\n",
    "plt.plot(mean_fpr, mean_tpr, color='midnightblue', label=f'Mean ROC (area = {mean_auc:.2f})')\n",
    "plt.plot(mean_fpr_v2, mean_tpr_v2, color='firebrick', label=f'Mean ROC (area = {mean_auc_v2:.2f})')\n",
    "plt.plot([0, 1], [0, 1], linestyle='--', color='lightgray')\n",
    "plt.xlabel('False Positive Rate')\n",
    "plt.ylabel('True Positive Rate')\n",
    "plt.title('Receiver Operating Characteristic (ROC) Curve')\n",
    "plt.legend(loc='lower right')\n",
    "plt.show()"
   ]
  }
 ],
 "metadata": {
  "kernelspec": {
   "display_name": "venv",
   "language": "python",
   "name": "python3"
  },
  "language_info": {
   "codemirror_mode": {
    "name": "ipython",
    "version": 3
   },
   "file_extension": ".py",
   "mimetype": "text/x-python",
   "name": "python",
   "nbconvert_exporter": "python",
   "pygments_lexer": "ipython3",
   "version": "3.12.1"
  }
 },
 "nbformat": 4,
 "nbformat_minor": 2
}
