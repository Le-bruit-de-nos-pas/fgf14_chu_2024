{
 "cells": [
  {
   "cell_type": "code",
   "execution_count": null,
   "metadata": {},
   "outputs": [],
   "source": [
    "# pip install pandas\n",
    "# pip install torch==2.3.0 torchvision==0.18.0\n",
    "# pip install openpyxl"
   ]
  },
  {
   "cell_type": "code",
   "execution_count": 32,
   "metadata": {},
   "outputs": [],
   "source": [
    "#import torch\n",
    "import pandas as pd\n",
    "import numpy as np\n",
    "from scipy.stats import mannwhitneyu, fisher_exact\n"
   ]
  },
  {
   "cell_type": "code",
   "execution_count": null,
   "metadata": {},
   "outputs": [],
   "source": [
    "df = pd.read_csv('data/FGF14_pb_may_22.csv', delimiter=';', header=0)\n",
    "print(df.head())"
   ]
  },
  {
   "cell_type": "code",
   "execution_count": null,
   "metadata": {},
   "outputs": [],
   "source": [
    "column_names = pd.DataFrame(df.columns, columns = ['Names'])\n",
    "print(column_names.to_string(index=False))"
   ]
  },
  {
   "cell_type": "markdown",
   "metadata": {},
   "source": [
    "### **Features Type**"
   ]
  },
  {
   "cell_type": "code",
   "execution_count": null,
   "metadata": {},
   "outputs": [],
   "source": [
    "counts = []\n",
    "\n",
    "for column in df.columns:\n",
    "    num_unique_values = df[column].nunique()\n",
    "    counts.append([column, num_unique_values])\n",
    "\n",
    "counts = pd.DataFrame(counts, columns=['Variable', 'Number_Unique'])\n",
    "print(counts.to_string(index=False))"
   ]
  },
  {
   "cell_type": "code",
   "execution_count": null,
   "metadata": {},
   "outputs": [],
   "source": [
    "def categorize_var(number_unique):\n",
    "    if number_unique <= 2:\n",
    "        return \"Binary\"\n",
    "    elif number_unique == 3:\n",
    "        return \"Group\"\n",
    "    else:\n",
    "        return \"Continuous\"\n",
    "    \n",
    "counts['Variable_Type'] = counts['Number_Unique'].apply(categorize_var)\n",
    "counts.at[0, 'Variable_Type'] = 'ID'\n",
    "print(counts.to_string(index=False))"
   ]
  },
  {
   "cell_type": "code",
   "execution_count": null,
   "metadata": {},
   "outputs": [],
   "source": [
    "continuous_vars = counts[counts['Variable_Type'] == 'Continuous']['Variable'].tolist()\n",
    "binary_vars = counts[counts['Variable_Type'] == 'Binary']['Variable'].tolist()\n",
    "print(df.shape, len(continuous_vars), len(binary_vars))  "
   ]
  },
  {
   "cell_type": "markdown",
   "metadata": {},
   "source": [
    "### **Summary Continuous Features**"
   ]
  },
  {
   "cell_type": "code",
   "execution_count": null,
   "metadata": {},
   "outputs": [],
   "source": [
    "columns_to_subset = ['genetics_conclusion'] + continuous_vars\n",
    "df_continuous = df[columns_to_subset].copy()\n",
    "df_continuous[continuous_vars] = df_continuous[continuous_vars].apply(pd.to_numeric, errors='coerce')\n",
    "df_continuous"
   ]
  },
  {
   "cell_type": "code",
   "execution_count": 132,
   "metadata": {},
   "outputs": [],
   "source": [
    "def calculate_stats_continuous(df, subset_column, subset_value):\n",
    "    subset_df = df[df[subset_column] == subset_value]\n",
    "    summary_stats_data = []\n",
    "\n",
    "    for column in subset_df.columns:\n",
    "        if pd.api.types.is_numeric_dtype(subset_df[column]):  \n",
    "            mean = subset_df[column].mean()\n",
    "            sd = subset_df[column].std()\n",
    "            summary_stats_data.append({'Column': column, 'Mean': mean, 'SD': sd})\n",
    "\n",
    "    summary_stats_df = pd.DataFrame(summary_stats_data)\n",
    "    summary_stats_df['Mean ± SD'] = summary_stats_df.apply(lambda row: f\"{row['Mean']:.2f} ± {row['SD']:.2f}\", axis=1)\n",
    "    summary_stats_df.drop(['Mean', 'SD'], axis=1, inplace=True)\n",
    "    return summary_stats_df"
   ]
  },
  {
   "cell_type": "code",
   "execution_count": 135,
   "metadata": {},
   "outputs": [],
   "source": [
    "result_FGF = calculate_stats_continuous(df_continuous, 'genetics_conclusion', 'FGF')\n",
    "result_Neg = calculate_stats_continuous(df_continuous, 'genetics_conclusion', 'Negative')\n",
    "result_MSA = calculate_stats_continuous(df_continuous, 'genetics_conclusion', 'MSA')\n",
    "\n",
    "result_FGF.to_csv('data/result_FGF_cont.csv')\n",
    "result_Neg.to_csv('data/result_Neg_cont.csv')\n",
    "result_MSA.to_csv('data/result_MSA_cont.csv')"
   ]
  },
  {
   "cell_type": "markdown",
   "metadata": {},
   "source": [
    "### **Summary Binary Features**"
   ]
  },
  {
   "cell_type": "code",
   "execution_count": null,
   "metadata": {},
   "outputs": [],
   "source": [
    "columns_to_subset = ['genetics_conclusion'] + binary_vars\n",
    "df_binary = df[columns_to_subset].copy()\n",
    "df_binary[binary_vars] = df_binary[binary_vars].apply(pd.to_numeric, errors='coerce')\n",
    "df_binary"
   ]
  },
  {
   "cell_type": "code",
   "execution_count": 137,
   "metadata": {},
   "outputs": [],
   "source": [
    "def calculate_stats_binary(df, subset_column, subset_value):\n",
    "    subset_df = df[df[subset_column] == subset_value]\n",
    "    summary_stats_data = []\n",
    "\n",
    "    for column in subset_df.columns:\n",
    "        if pd.api.types.is_numeric_dtype(subset_df[column]) and subset_df[column].nunique() <= 2:\n",
    "            sum_ = subset_df[column].sum()\n",
    "            percentage = (sum_ / len(subset_df)) * 100\n",
    "            summary_stats_data.append({'Column': column, 'Sum': sum_, 'Percentage': percentage})\n",
    "\n",
    "    summary_stats_df = pd.DataFrame(summary_stats_data)\n",
    "    summary_stats_df['n (%%)'] = summary_stats_df.apply(lambda row: f\"{row['Sum']} ({row['Percentage']:.2f}%)\", axis=1)\n",
    "    summary_stats_df.drop(['Sum', 'Percentage'], axis=1, inplace=True)\n",
    "\n",
    "    return summary_stats_df"
   ]
  },
  {
   "cell_type": "code",
   "execution_count": 146,
   "metadata": {},
   "outputs": [],
   "source": [
    "result_FGF = calculate_stats_binary(df_binary, 'genetics_conclusion', 'FGF')\n",
    "result_Neg = calculate_stats_binary(df_binary, 'genetics_conclusion', 'Negative')\n",
    "result_MSA = calculate_stats_binary(df_binary, 'genetics_conclusion', 'MSA')\n",
    "\n",
    "result_FGF.to_csv('data/result_FGF_bin.csv')\n",
    "result_Neg.to_csv('data/result_Neg_bin.csv')\n",
    "result_MSA.to_csv('data/result_MSA_bin.csv')"
   ]
  },
  {
   "cell_type": "markdown",
   "metadata": {},
   "source": [
    "### **Mann Whitney U**"
   ]
  },
  {
   "cell_type": "code",
   "execution_count": null,
   "metadata": {},
   "outputs": [],
   "source": [
    "def perform_mann_whitney(df, continuous_columns, condition_column, g_1, g_2 ):\n",
    "    results = []\n",
    "    \n",
    "    for col in continuous_columns:\n",
    "        try:\n",
    "            group_1 = df[df[condition_column] == g_1][col].dropna()\n",
    "            group_2 = df[df[condition_column] == g_2][col].dropna()\n",
    "            _, p_value = mannwhitneyu(group_1, group_2, alternative='two-sided')\n",
    "            results.append((col, p_value.round(4)))\n",
    "\n",
    "        except Exception as e:\n",
    "            print(f\"Error occurred for column '{col}': {e}\")\n",
    "            continue\n",
    "\n",
    "    results_df = pd.DataFrame(results, columns=['Column', 'P-Value'])\n",
    "    return results_df\n",
    "\n",
    "\n",
    "\n",
    "mann_whit_fgf_neg = perform_mann_whitney(df_continuous, continuous_vars, 'genetics_conclusion', 'FGF', 'Negative')\n",
    "mann_whit_fgf_msa = perform_mann_whitney(df_continuous, continuous_vars, 'genetics_conclusion', 'FGF', 'MSA')\n",
    "\n",
    "mann_whit_fgf_neg.to_csv('data/mann_whit_fgf_neg.csv')\n",
    "mann_whit_fgf_msa.to_csv('data/mann_whit_fgf_msa.csv')"
   ]
  },
  {
   "cell_type": "markdown",
   "metadata": {},
   "source": [
    "### **Fisher's Exact**"
   ]
  },
  {
   "cell_type": "code",
   "execution_count": 48,
   "metadata": {},
   "outputs": [
    {
     "name": "stdout",
     "output_type": "stream",
     "text": [
      "Error occurred for column 'dx_gait_balance_impair': The input `table` must be of shape (2, 2).\n"
     ]
    }
   ],
   "source": [
    "def perform_fishers_exact(df, binary_columns, condition_column, g_1, g_2):\n",
    "    results = []\n",
    "    \n",
    "    filtered_df = df[(df[condition_column] == g_1) | (df[condition_column] == g_2)]\n",
    "\n",
    "    for col in binary_columns:\n",
    "        try:\n",
    "            group_1 = filtered_df[filtered_df[condition_column] == g_1][col]\n",
    "            group_2 = filtered_df[filtered_df[condition_column] == g_2][col]\n",
    "            \n",
    "            if not (group_1.sum() == 0 and group_2.sum() == 0):\n",
    "                contingency_table = pd.crosstab(filtered_df[condition_column], filtered_df[col])\n",
    "                odds_ratio, p_value = fisher_exact(contingency_table)\n",
    "                p_value = round(p_value, 4)\n",
    "                results.append((col, p_value))\n",
    "        except Exception as e:\n",
    "            print(f\"Error occurred for column '{col}': {e}\")\n",
    "            continue\n",
    "\n",
    "    results_df = pd.DataFrame(results, columns=['Column', 'P-Value'])\n",
    "    \n",
    "    return results_df\n",
    "\n",
    "\n",
    "fisher_fgf_neg = perform_fishers_exact(df_binary, binary_vars, 'genetics_conclusion', 'FGF', 'Negative')\n",
    "fisher_fgf_msa = perform_fishers_exact(df_binary, binary_vars, 'genetics_conclusion', 'MSA', 'Negative')\n",
    "\n",
    "fisher_fgf_neg = fisher_fgf_neg.rename(columns={\"P-Value\": \"P-Value_Neg\"})\n",
    "fisher_fgf_msa = fisher_fgf_msa.rename(columns={\"P-Value\": \"P-Value_MSA\"})\n",
    "\n",
    "merged_df = pd.merge(fisher_fgf_neg, fisher_fgf_msa, on='Column', how='left')\n",
    "merged_df\n",
    "merged_df.to_csv('data/merged_df.csv')\n"
   ]
  }
 ],
 "metadata": {
  "kernelspec": {
   "display_name": "venv",
   "language": "python",
   "name": "python3"
  },
  "language_info": {
   "codemirror_mode": {
    "name": "ipython",
    "version": 3
   },
   "file_extension": ".py",
   "mimetype": "text/x-python",
   "name": "python",
   "nbconvert_exporter": "python",
   "pygments_lexer": "ipython3",
   "version": "3.12.1"
  }
 },
 "nbformat": 4,
 "nbformat_minor": 2
}
